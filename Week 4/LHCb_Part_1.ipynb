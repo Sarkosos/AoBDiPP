{
  "nbformat": 4,
  "nbformat_minor": 0,
  "metadata": {
    "colab": {
      "name": "LHCb_Part_1.ipynb",
      "provenance": [],
      "toc_visible": true
    },
    "kernelspec": {
      "name": "python2",
      "display_name": "Python 2"
    }
  },
  "cells": [
    {
      "cell_type": "markdown",
      "metadata": {
        "id": "1JafiSIrvEKW",
        "colab_type": "text"
      },
      "source": [
        "Welcome to Week 4!\n",
        "\n",
        "We will be focussing in Particle Physics Analysis and detecting matter/antimatter assymetries in the production of certain types of particles. ![LHCb detector](https://www1b.physik.rwth-aachen.de/~schael/LHCb_files/LHCB%20PREVIEW-white-bg.jpg)\n",
        "\n",
        "The data we are using comes from LHCb - one of the experiments at LHC. It is a highly specialised detector aimed at detecting decays involving the B-quark. Unlike the other major experiments, LHCb detects particles very close to the source and looks almost exclusively in the forward direction - this gives the detector many advantages compared to other experiments at LHC.\n",
        "\n",
        "In order to get started, we need to access the [ROOT framework](https://root.cern.ch/) and download some datafiles into this machine.\n",
        "\n",
        "Before we start - we have to use Python2 (not Python 3), so we should choose this as an option in \"Runtime\" -> \"Change Runtime Type\" at the top."
      ]
    },
    {
      "cell_type": "code",
      "metadata": {
        "id": "vFclIR72w0mU",
        "colab_type": "code",
        "colab": {
          "base_uri": "https://localhost:8080/",
          "height": 217
        },
        "outputId": "1f2f0a74-29f4-4634-f573-b7c25216e9ba"
      },
      "source": [
        "#we are going to make a directory called APPS\n",
        "!mkdir -p APPS\n",
        "#Now we move to our directory called APPS and we download ROOT from the CERN server, this version is chosen because it runs on this machine - if you want to run this locally check the versions!\n",
        "!cd APPS && wget https://root.cern.ch/download/root_v6.13.08.Linux-ubuntu18-x86_64-gcc7.3.tar.gz \n",
        "#Now we extract our downloaded file:\n",
        "!cd APPS && tar -xf root_v6.13.08.Linux-ubuntu18-x86_64-gcc7.3.tar.gz\n"
      ],
      "execution_count": 84,
      "outputs": [
        {
          "output_type": "stream",
          "text": [
            "--2020-03-03 10:48:39--  https://root.cern.ch/download/root_v6.13.08.Linux-ubuntu18-x86_64-gcc7.3.tar.gz\n",
            "Resolving root.cern.ch (root.cern.ch)... 137.138.13.143, 2001:1458:201:45::100:b\n",
            "Connecting to root.cern.ch (root.cern.ch)|137.138.13.143|:443... connected.\n",
            "HTTP request sent, awaiting response... 200 OK\n",
            "Length: 137415272 (131M) [application/x-gzip]\n",
            "Saving to: ‘root_v6.13.08.Linux-ubuntu18-x86_64-gcc7.3.tar.gz.2’\n",
            "\n",
            "root_v6.13.08.Linux 100%[===================>] 131.05M  19.0MB/s    in 7.9s    \n",
            "\n",
            "2020-03-03 10:48:48 (16.5 MB/s) - ‘root_v6.13.08.Linux-ubuntu18-x86_64-gcc7.3.tar.gz.2’ saved [137415272/137415272]\n",
            "\n"
          ],
          "name": "stdout"
        }
      ]
    },
    {
      "cell_type": "code",
      "metadata": {
        "id": "COPyXIvbxqht",
        "colab_type": "code",
        "colab": {
          "base_uri": "https://localhost:8080/",
          "height": 35
        },
        "outputId": "2282be9a-3300-4e8a-fadc-eb5b79cdbcba"
      },
      "source": [
        "#now we can extract some files from ROOT and ensure that we can access the libraries. We use some python key words to get access to the right files:\n",
        "\n",
        "import sys\n",
        "\n",
        "sys.path.append(\"/content/APPS/root/lib\")\n",
        "\n",
        "import ctypes\n",
        "\n",
        "ctypes.cdll.LoadLibrary('/content/APPS/root/lib/libCore.so')\n",
        "\n",
        "ctypes.cdll.LoadLibrary('/content/APPS/root/lib/libThread.so')\n",
        "\n",
        "ctypes.cdll.LoadLibrary('/content/APPS/root/lib/libImt.so')\n",
        "\n",
        "ctypes.cdll.LoadLibrary('/content/APPS/root/lib/libRIO.so')\n",
        "\n",
        "ctypes.cdll.LoadLibrary('/content/APPS/root/lib/libNet.so')\n",
        "\n",
        "ctypes.cdll.LoadLibrary('/content/APPS/root/lib/libTree.so')\n",
        "\n",
        "ctypes.cdll.LoadLibrary('/content/APPS/root/lib/libMathCore.so')\n",
        "\n",
        "ctypes.cdll.LoadLibrary('/content/APPS/root/lib/libMatrix.so')\n",
        "\n",
        "ctypes.cdll.LoadLibrary('/content/APPS/root/lib/libHist.so')\n",
        "\n",
        "ctypes.cdll.LoadLibrary('/content/APPS/root/lib/libGraf.so')\n",
        "\n",
        "ctypes.cdll.LoadLibrary('/content/APPS/root/lib/libGraf3d.so')\n",
        "\n",
        "ctypes.cdll.LoadLibrary('/content/APPS/root/lib/libMultiProc.so')\n",
        "\n",
        "ctypes.cdll.LoadLibrary('/content/APPS/root/lib/libMinuit.so')\n",
        "\n",
        "ctypes.cdll.LoadLibrary('/content/APPS/root/lib/libFoam.so')"
      ],
      "execution_count": 98,
      "outputs": [
        {
          "output_type": "execute_result",
          "data": {
            "text/plain": [
              "<CDLL '/content/APPS/root/lib/libFoam.so', handle 5561e7983400 at 7f6a06aab8d0>"
            ]
          },
          "metadata": {
            "tags": []
          },
          "execution_count": 98
        }
      ]
    },
    {
      "cell_type": "code",
      "metadata": {
        "id": "QTVz7NQMyDCb",
        "colab_type": "code",
        "colab": {
          "base_uri": "https://localhost:8080/",
          "height": 625
        },
        "outputId": "e3886eb6-d24a-4db7-e61d-9d6c7258c946"
      },
      "source": [
        "#Now we can check if we have everything working as we expect: \n",
        "#Import brings the ROOT framework into our python environment.\n",
        "import ROOT\n",
        "#We define a 1 dimensional histogram, with 100 bins which ranges from -4 to +4\n",
        "h = ROOT.TH1F(\"gauss\",\"Example histogram\",100,-4,4)\n",
        "#Fill the histogram with gaussian (random) distribution\n",
        "h.FillRandom(\"gaus\")\n",
        "#make a Canvas (i.e. a drawing)\n",
        "c = ROOT.TCanvas(\"myCanvasName\",\"The Canvas Title\",800,600)\n",
        "#Draw my histogram\n",
        "h.Draw()\n",
        "#Show me the canvas\n",
        "c.Draw()"
      ],
      "execution_count": 86,
      "outputs": [
        {
          "output_type": "stream",
          "text": [
            "Warning in <TFile::Append>: Replacing existing TH1: gauss (Potential memory leak).\n",
            "Warning in <TCanvas::Constructor>: Deleting canvas with same name: myCanvasName\n"
          ],
          "name": "stderr"
        },
        {
          "output_type": "display_data",
          "data": {
            "image/png": "[encoded data removed]",
            "text/plain": [
              "<IPython.core.display.Image object>"
            ]
          },
          "metadata": {
            "tags": []
          }
        }
      ]
    },
    {
      "cell_type": "markdown",
      "metadata": {
        "id": "VXW1M6XB0tXP",
        "colab_type": "text"
      },
      "source": [
        "All being well - this should give no errors and we should have some kind of Gaussian distribution above.\n",
        "\n",
        "The next step is to get our data from CERN:"
      ]
    },
    {
      "cell_type": "code",
      "metadata": {
        "id": "owIltKHIAmfl",
        "colab_type": "code",
        "colab": {
          "base_uri": "https://localhost:8080/",
          "height": 217
        },
        "outputId": "8182b47a-f603-4995-86d5-2ad9043d2752"
      },
      "source": [
        "!mkdir -p DATA && cd DATA  && wget http://opendata.cern.ch/record/4900/files/B2HHH_MagnetUp.root"
      ],
      "execution_count": 87,
      "outputs": [
        {
          "output_type": "stream",
          "text": [
            "--2020-03-03 10:48:57--  http://opendata.cern.ch/record/4900/files/B2HHH_MagnetUp.root\n",
            "Resolving opendata.cern.ch (opendata.cern.ch)... 188.185.82.144, 188.184.28.138, 188.184.93.89, ...\n",
            "Connecting to opendata.cern.ch (opendata.cern.ch)|188.185.82.144|:80... connected.\n",
            "HTTP request sent, awaiting response... 200 OK\n",
            "Length: 444723234 (424M) [application/octet-stream]\n",
            "Saving to: ‘B2HHH_MagnetUp.root.2’\n",
            "\n",
            "B2HHH_MagnetUp.root 100%[===================>] 424.12M  14.8MB/s    in 29s     \n",
            "\n",
            "2020-03-03 10:49:26 (14.7 MB/s) - ‘B2HHH_MagnetUp.root.2’ saved [444723234/444723234]\n",
            "\n"
          ],
          "name": "stdout"
        }
      ]
    },
    {
      "cell_type": "code",
      "metadata": {
        "id": "Co476pbmBvBB",
        "colab_type": "code",
        "colab": {
          "base_uri": "https://localhost:8080/",
          "height": 544
        },
        "outputId": "4ca6dc9b-fe97-4b4c-c4f9-adeb80e6f1f0"
      },
      "source": [
        "#Since we need to use ROOT, we must first import this into Python:\n",
        "import ROOT\n",
        "#Then we open the ROOT file using the TFile command.\n",
        "f = ROOT.TFile.Open(\"DATA/B2HHH_MagnetUp.root\", \"READONLY\")\n",
        "#From our file, we have to extract the DecayTree \n",
        "tree=f.Get(\"DecayTree\")\n",
        "#Now we can grab some variables as a test:\n",
        "ymomentum = ROOT.RooRealVar(\"H1_PY\",\"H1 Y Momentum\",0,10000,\"MeV/c\")\n",
        "xmomentum = ROOT.RooRealVar(\"H1_PX\",\"H1 X Momentum\",0,10000,\"MeV/c\")\n",
        "zmomentum = ROOT.RooRealVar(\"H1_PZ\",\"H1 Z Momentum\",0,10000,\"MeV/c\")\n",
        "# We then create a dataset for us to play with\n",
        "data = ROOT.RooDataSet(\"data\",\"data set\", tree, ROOT.RooArgSet(xmomentum,ymomentum,zmomentum), \"1==1\")\n",
        "# Now we create a canvas, plot our data onto the canvas and draw it:\n",
        "c = ROOT.TCanvas(\"c\",\"c\")\n",
        "frame = xmomentum.frame()\n",
        "data.plotOn(frame)\n",
        "frame.Draw()\n",
        "c.Draw()"
      ],
      "execution_count": 88,
      "outputs": [
        {
          "output_type": "stream",
          "text": [
            "[#1] INFO:Eval -- RooTreeDataStore::loadValues(data) Ignored 3238126 out of range events\n"
          ],
          "name": "stdout"
        },
        {
          "output_type": "stream",
          "text": [
            "cling::DynamicLibraryManager::loadLibrary(): libGraf3d.so: cannot open shared object file: No such file or directory\n",
            "Error in <TInterpreter::TCling::AutoLoad>: failure loading library libTreePlayer.so for TTreeFormula\n"
          ],
          "name": "stderr"
        },
        {
          "output_type": "display_data",
          "data": {
            "image/png": "[encoded data removed]",
            "text/plain": [
              "<IPython.core.display.Image object>"
            ]
          },
          "metadata": {
            "tags": []
          }
        }
      ]
    },
    {
      "cell_type": "markdown",
      "metadata": {
        "id": "4e4n4iS3IJZi",
        "colab_type": "text"
      },
      "source": [
        "#Why are we here?\n",
        "\n",
        "This week is about finding out something about one of the fundemental questions in physics. Why do we have \"stuff\".\n",
        "\n",
        "According to many of our models, and according to many measurements in particle physics, matter and anti-matter appear to be produced in equal quantities.\n",
        "\n",
        "However, when one looks at the Universe in general, we have more matter than anti-matter left - so there need to be some processes where anti-matter and matter are not produced equally. You can find out more about the Matter/Anti-Matter Asymmetry [here](http://press.web.cern.ch/backgrounders/matterantimatter-asymmetry)\n",
        "\n",
        "One place we look for this asymetry is in [charge-partity (CP) violation](https://www.symmetrymagazine.org/article/october-2005/explain-it-in-60-seconds) in particle physics processes. This essentially says that the processes that happen in the anti-particle version of a decay do not **exactly** match to the processes that happen in the particle version of the decay.\n",
        "\n",
        "\n",
        "\n",
        "---\n",
        "\n",
        "\n",
        "\n",
        "At LHCb, we produce both particle of the  B<sup>+</sup> meson and it's antiparticle the B<sup>-</sup> meson.\n",
        "\n",
        "We cannot detect these mesons directly. They decay into other things before we have a chance to measure them properly. So we collect data on the decay products, often called daughter particles. There are 524 [documented](http://pdg.lbl.gov/2014/listings/rpp2014-list-B-plus-minus.pdf) ways that the B<sup>+/-</sup> decays into various combinations. In order to simplify the process, we choose decay combinations that are convenient or have particular properties.\n",
        "\n",
        "In this analysis, we will take the process:-\n",
        "\n",
        "B<sup>+</sup>->K<sup>+</sup> + K<sup>+</sup>  + K<sup>-</sup>\n",
        "\n",
        "or\n",
        "\n",
        "B<sup>-</sup>->K<sup>-</sup> + K<sup>-</sup>  + K<sup>+</sup>\n",
        "\n",
        "\n",
        "To do so, we are given the following data for each event in our system:-\n",
        "\n",
        "![alt text](https://raw.githubusercontent.com/lhcb/opendata-project/80d64a3796e593fc8f9b257e85f32ae2e54f131f/Images/Variables.png)\n",
        "\n",
        "Here, H1 is the detected daughter particle (so a Kaon or a Pion), **not** the B-meson - the mother particle. We have to use some detective work to extract the information we need on the original physics process at play.\n",
        "\n",
        "\n",
        "Let's get started with working with this data:"
      ]
    },
    {
      "cell_type": "markdown",
      "metadata": {
        "id": "LOhfj7kfP-ao",
        "colab_type": "text"
      },
      "source": [
        "For our analysis, the momentum of each of the daughter particles is split into the three cartesian components. We need to first combine this into a single measurement"
      ]
    },
    {
      "cell_type": "code",
      "metadata": {
        "id": "Y4keyoyTPjsK",
        "colab_type": "code",
        "colab": {}
      },
      "source": [
        "#We need to tell Python what the total momentum is defined as mathematically - do that in this code block:\n",
        "\n",
        "#Hint: I suggest we define a function which we might want to use later - something like:\n",
        "import math\n",
        "def p_tot_daughter(daughter):\n",
        "  total_momentum = ROOT.RooRealVar('math.sqrt((daughter+\"_PY\")**2+(daughter+\"_PX\")**2+(daughter+\"_PZ\")**2)',daughter+\" total Momentum\",0,10000,\"MeV/c\")\n",
        "  # xmomentum = ROOT.RooRealVar(daughter+\"_PX\",daughter+\" X Momentum\",0,10000,\"MeV/c\")\n",
        "  # zmomentum = ROOT.RooRealVar(daughter+\"_PZ\",daughter+\" Z Momentum\",0,10000,\"MeV/c\")\n",
        "  # p_tot=math.sqrt(ymomentum.getValV()**2+xmomentum.getValV()**2+zmomentum.getValV()**2)\n",
        "  return total_momentum\n"
      ],
      "execution_count": 0,
      "outputs": []
    },
    {
      "cell_type": "markdown",
      "metadata": {
        "id": "C1lXLMCoR1Gi",
        "colab_type": "text"
      },
      "source": [
        "Now plot the total momentum for one (or more) of the daughter particles."
      ]
    },
    {
      "cell_type": "code",
      "metadata": {
        "colab_type": "code",
        "outputId": "ea5af3a8-8e1b-4723-8f86-f31bb1d87670",
        "id": "-LVdW6CNBVkX",
        "colab": {
          "base_uri": "https://localhost:8080/",
          "height": 607
        },
        "cellView": "code"
      },
      "source": [
        "#@title Default title text\n",
        "# import ROOT\n",
        "# #use the histogram plotting tools, call your function to find the total momentum and then plot it!\n",
        "# # plot = ROOT.TCanvas('c_ptot')\n",
        "# # arg = p_tot_daughter('H1')\n",
        "# # arg = ROOT.RooArgList(x)\n",
        "# # h1 = ROOT.TH1D(\"h1\",\"gaussian histogram\",20,-10,10)\n",
        "# # h1.fill(arg)\n",
        "# # data = ROOT.RooDataHist(\"data\", \"data set with x1\", arg, h1)\n",
        "# f = ROOT.TFile.Open(\"DATA/B2HHH_MagnetUp.root\", \"READONLY\")\n",
        "\n",
        "# tree=f.Get(\"DecayTree\")\n",
        "\n",
        "# # print(arg.getVal)\n",
        "# # data = ROOT.RooDataSet(\"data\",\"data set\", tree, ROOT.RooArgSet(arg), \"1==1\")\n",
        "# # data.printValue()\n",
        "# # print(arg)\n",
        "# # h = ROOT.TH1F(\"gauss\",\"Momentum\",1000 ,0 ,10000)\n",
        "# # h.Fill(arg.getVal())\n",
        "# # p_frame = arg.frame()\n",
        "# # data.plotOn(p_frame)\n",
        "# c = ROOT.TCanvas(\"myCanvasName\",\"The Canvas Title\",800,600)\n",
        "# tree.Draw(\"sqrt(H1_PX**2+H1_PY**2+H1_PZ**2)>>histogram1(100,0,20000)\")\n",
        "# histogram1 = ROOT.gDirectory.Get(\"histogram1\")\n",
        "\n",
        "# c.Draw()\n",
        "# # p_frame.Draw()\n",
        "# # plot.Draw()\n",
        "# # h.Draw()\n",
        "# # c.Draw()\n",
        "\n",
        "#Since we need to use ROOT, we must first import this into Python:\n",
        "import ROOT\n",
        "#Then we open the ROOT file using the TFile command.\n",
        "f = ROOT.TFile.Open(\"DATA/B2HHH_MagnetUp.root\", \"READONLY\")\n",
        "#From our file, we have to extract the DecayTree \n",
        "tree=f.Get(\"DecayTree\")\n",
        "# Now we create a canvas, plot our data onto the canvas and draw it:\n",
        "\n",
        "c = ROOT.TCanvas(\"myCanvasName\",\"The Canvas Title\",800,600)\n",
        "#This string (below) is the total momentum of the H1 particle\n",
        "tree.Draw(\"sqrt(H1_PX**2+H1_PY**2+H1_PZ**2)>>histogram1(100,0,40000)\")\n",
        "#tree.Draw(\"sqrt((H1_PX**2)+(H1_PY**2)+(H1_PZ**2))+>>histogram1,100\")\n",
        "histogram1 = ROOT.gDirectory.Get(\"histogram1\")\n",
        "#histogram1.Draw()\n",
        "#Show me the canvas\n",
        "c.Draw()"
      ],
      "execution_count": 100,
      "outputs": [
        {
          "output_type": "stream",
          "text": [
            "Warning in <TCanvas::Constructor>: Deleting canvas with same name: myCanvasName\n"
          ],
          "name": "stderr"
        },
        {
          "output_type": "display_data",
          "data": {
            "image/png": "[encoded data removed]",
            "text/plain": [
              "<IPython.core.display.Image object>"
            ]
          },
          "metadata": {
            "tags": []
          }
        }
      ]
    },
    {
      "cell_type": "markdown",
      "metadata": {
        "id": "Gj5qv5kqSMIF",
        "colab_type": "text"
      },
      "source": [
        "The next step is to use the total momentum of the Kaon and its invarient mass (found with a small amount of research) and your relativity knowledge to get an equation for the energy of the Kaon. "
      ]
    },
    {
      "cell_type": "code",
      "metadata": {
        "id": "QMkih_6SSG8I",
        "colab_type": "code",
        "colab": {
          "base_uri": "https://localhost:8080/",
          "height": 35
        },
        "outputId": "7461665f-593b-47f0-fc95-e063f22d5957"
      },
      "source": [
        "#let's make a function to find the energy of a Kaon, if you add in the total momentum found in the previous steps - you should be able to do so reasonably easily\n",
        "def get_energy(daughter):\n",
        "  c = \t299792458\n",
        "  mass = 493.677\n",
        "  momentum = p_tot_daughter(daughter)\n",
        "  return math.sqrt( mass**2*c**4+momentum.getVal()**2*c**2)\n",
        "print(get_energy('H1'))"
      ],
      "execution_count": 107,
      "outputs": [
        {
          "output_type": "stream",
          "text": [
            "4.43694760373e+19\n"
          ],
          "name": "stdout"
        }
      ]
    },
    {
      "cell_type": "markdown",
      "metadata": {
        "id": "w3sqwtNTUEJd",
        "colab_type": "text"
      },
      "source": [
        "We have now completed the initial steps and begun to work through what we need to with the data. This workflow is divided into 4 stages, just for easier viewing and comprehension."
      ]
    }
  ]
}